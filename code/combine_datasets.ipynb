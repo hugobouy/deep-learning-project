{
 "cells": [
  {
   "cell_type": "code",
   "execution_count": 41,
   "metadata": {},
   "outputs": [],
   "source": [
    "import pandas as pd\n",
    "\n",
    "SARCASM_HEADLINES_DATASET_PATH = \"../datasets/Sarcasm_Headlines_Dataset.json\"\n",
    "MUSTARD_PLUS_PLUS_DATASET_PATH = \"../datasets/mustard++_text.csv\"\n",
    "# From Sarcasm Corpus V2\n",
    "# GEN (general sarcasm), HYP (hyperbole), and RQ (rhetorical questions).\n",
    "GEN_SARC_NOTSARC_DATASET_PATH = \"../datasets/GEN-sarc-notsarc.csv\"\n",
    "HYP_SARC_NOTSARC_DATASET_PATH = \"../datasets/HYP-sarc-notsarc.csv\"\n",
    "RQ_SARC_NOTSARC_DATASET_PATH = \"../datasets/RQ-sarc-notsarc.csv\"\n",
    "# Amazon Reviews Corpus\n",
    "SARCASM_AMAZON_REVIEWS_REGULAR_DIR_PATH = (\n",
    "    \"../datasets/SarcasmAmazonReviewsCorpus-master/Regular\"\n",
    ")\n",
    "SARCASM_AMAZON_REVIEWS_IRONIC_DIR_PATH = (\n",
    "    \"../datasets/SarcasmAmazonReviewsCorpus-master/Ironic\"\n",
    ")"
   ]
  },
  {
   "cell_type": "code",
   "execution_count": 42,
   "metadata": {},
   "outputs": [],
   "source": [
    "combined_df = pd.DataFrame(columns=[\"sentence\", \"is_sarcastic\"])"
   ]
  },
  {
   "cell_type": "markdown",
   "metadata": {},
   "source": [
    "## Sarcasm headlines dataset\n"
   ]
  },
  {
   "cell_type": "code",
   "execution_count": 43,
   "metadata": {},
   "outputs": [
    {
     "name": "stdout",
     "output_type": "stream",
     "text": [
      "   is_sarcastic                                           headline  \\\n",
      "0             1  thirtysomething scientists unveil doomsday clo...   \n",
      "1             0  dem rep. totally nails why congress is falling...   \n",
      "2             0  eat your veggies: 9 deliciously different recipes   \n",
      "3             1  inclement weather prevents liar from getting t...   \n",
      "4             1  mother comes pretty close to using word 'strea...   \n",
      "\n",
      "                                        article_link  \n",
      "0  https://www.theonion.com/thirtysomething-scien...  \n",
      "1  https://www.huffingtonpost.com/entry/donna-edw...  \n",
      "2  https://www.huffingtonpost.com/entry/eat-your-...  \n",
      "3  https://local.theonion.com/inclement-weather-p...  \n",
      "4  https://www.theonion.com/mother-comes-pretty-c...  \n",
      "(28619, 3)\n"
     ]
    }
   ],
   "source": [
    "sarcasm_headlines_df: pd.DataFrame = pd.read_json(\n",
    "    SARCASM_HEADLINES_DATASET_PATH, lines=True\n",
    ")\n",
    "print(sarcasm_headlines_df.head())\n",
    "print(sarcasm_headlines_df.shape)"
   ]
  },
  {
   "cell_type": "code",
   "execution_count": 44,
   "metadata": {},
   "outputs": [
    {
     "name": "stdout",
     "output_type": "stream",
     "text": [
      "                                            sentence is_sarcastic\n",
      "0  thirtysomething scientists unveil doomsday clo...            1\n",
      "1  dem rep. totally nails why congress is falling...            0\n",
      "2  eat your veggies: 9 deliciously different recipes            0\n",
      "3  inclement weather prevents liar from getting t...            1\n",
      "4  mother comes pretty close to using word 'strea...            1\n"
     ]
    }
   ],
   "source": [
    "sarcasm_headlines_df = sarcasm_headlines_df.rename(\n",
    "    columns={\"headline\": \"sentence\"}\n",
    ").drop(\"article_link\", axis=1)\n",
    "combined_df = pd.concat([combined_df, sarcasm_headlines_df], ignore_index=True)\n",
    "print(combined_df.head())"
   ]
  },
  {
   "cell_type": "markdown",
   "metadata": {},
   "source": [
    "## Mustard++ dataset\n"
   ]
  },
  {
   "cell_type": "code",
   "execution_count": 45,
   "metadata": {},
   "outputs": [
    {
     "name": "stdout",
     "output_type": "stream",
     "text": [
      "(6041, 12)\n"
     ]
    },
    {
     "data": {
      "text/html": [
       "<div>\n",
       "<style scoped>\n",
       "    .dataframe tbody tr th:only-of-type {\n",
       "        vertical-align: middle;\n",
       "    }\n",
       "\n",
       "    .dataframe tbody tr th {\n",
       "        vertical-align: top;\n",
       "    }\n",
       "\n",
       "    .dataframe thead th {\n",
       "        text-align: right;\n",
       "    }\n",
       "</style>\n",
       "<table border=\"1\" class=\"dataframe\">\n",
       "  <thead>\n",
       "    <tr style=\"text-align: right;\">\n",
       "      <th></th>\n",
       "      <th>SCENE</th>\n",
       "      <th>KEY</th>\n",
       "      <th>SENTENCE</th>\n",
       "      <th>END_TIME</th>\n",
       "      <th>SPEAKER</th>\n",
       "      <th>SHOW</th>\n",
       "      <th>Sarcasm</th>\n",
       "      <th>Sarcasm_Type</th>\n",
       "      <th>Implicit_Emotion</th>\n",
       "      <th>Explicit_Emotion</th>\n",
       "      <th>Valence</th>\n",
       "      <th>Arousal</th>\n",
       "    </tr>\n",
       "  </thead>\n",
       "  <tbody>\n",
       "    <tr>\n",
       "      <th>0</th>\n",
       "      <td>1_10004</td>\n",
       "      <td>1_10004_c_00</td>\n",
       "      <td>Well, I'm sure that, uh, you...\\nhave a lot of...</td>\n",
       "      <td>0:06</td>\n",
       "      <td>PERSON</td>\n",
       "      <td>BBT</td>\n",
       "      <td>NaN</td>\n",
       "      <td>NaN</td>\n",
       "      <td>NaN</td>\n",
       "      <td>NaN</td>\n",
       "      <td>NaN</td>\n",
       "      <td>NaN</td>\n",
       "    </tr>\n",
       "    <tr>\n",
       "      <th>1</th>\n",
       "      <td>1_10004</td>\n",
       "      <td>1_10004_c_01</td>\n",
       "      <td>Who was he?</td>\n",
       "      <td>0:08</td>\n",
       "      <td>SHELDON</td>\n",
       "      <td>BBT</td>\n",
       "      <td>NaN</td>\n",
       "      <td>NaN</td>\n",
       "      <td>NaN</td>\n",
       "      <td>NaN</td>\n",
       "      <td>NaN</td>\n",
       "      <td>NaN</td>\n",
       "    </tr>\n",
       "    <tr>\n",
       "      <th>2</th>\n",
       "      <td>1_10004</td>\n",
       "      <td>1_10004_c_02</td>\n",
       "      <td>His name is Ron.\\nI met him at my prayer group.</td>\n",
       "      <td>0:12</td>\n",
       "      <td>PERSON</td>\n",
       "      <td>BBT</td>\n",
       "      <td>NaN</td>\n",
       "      <td>NaN</td>\n",
       "      <td>NaN</td>\n",
       "      <td>NaN</td>\n",
       "      <td>NaN</td>\n",
       "      <td>NaN</td>\n",
       "    </tr>\n",
       "    <tr>\n",
       "      <th>3</th>\n",
       "      <td>1_10004</td>\n",
       "      <td>1_10004_c_03</td>\n",
       "      <td>How long have you been involved with him?</td>\n",
       "      <td>0:14</td>\n",
       "      <td>SHELDON</td>\n",
       "      <td>BBT</td>\n",
       "      <td>NaN</td>\n",
       "      <td>NaN</td>\n",
       "      <td>NaN</td>\n",
       "      <td>NaN</td>\n",
       "      <td>NaN</td>\n",
       "      <td>NaN</td>\n",
       "    </tr>\n",
       "    <tr>\n",
       "      <th>4</th>\n",
       "      <td>1_10004</td>\n",
       "      <td>1_10004_c_04</td>\n",
       "      <td>A few months.</td>\n",
       "      <td>0:16</td>\n",
       "      <td>PERSON</td>\n",
       "      <td>BBT</td>\n",
       "      <td>NaN</td>\n",
       "      <td>NaN</td>\n",
       "      <td>NaN</td>\n",
       "      <td>NaN</td>\n",
       "      <td>NaN</td>\n",
       "      <td>NaN</td>\n",
       "    </tr>\n",
       "  </tbody>\n",
       "</table>\n",
       "</div>"
      ],
      "text/plain": [
       "     SCENE           KEY                                           SENTENCE  \\\n",
       "0  1_10004  1_10004_c_00  Well, I'm sure that, uh, you...\\nhave a lot of...   \n",
       "1  1_10004  1_10004_c_01                                        Who was he?   \n",
       "2  1_10004  1_10004_c_02    His name is Ron.\\nI met him at my prayer group.   \n",
       "3  1_10004  1_10004_c_03          How long have you been involved with him?   \n",
       "4  1_10004  1_10004_c_04                                      A few months.   \n",
       "\n",
       "  END_TIME  SPEAKER SHOW  Sarcasm Sarcasm_Type Implicit_Emotion  \\\n",
       "0     0:06   PERSON  BBT      NaN          NaN              NaN   \n",
       "1     0:08  SHELDON  BBT      NaN          NaN              NaN   \n",
       "2     0:12   PERSON  BBT      NaN          NaN              NaN   \n",
       "3     0:14  SHELDON  BBT      NaN          NaN              NaN   \n",
       "4     0:16   PERSON  BBT      NaN          NaN              NaN   \n",
       "\n",
       "  Explicit_Emotion  Valence  Arousal  \n",
       "0              NaN      NaN      NaN  \n",
       "1              NaN      NaN      NaN  \n",
       "2              NaN      NaN      NaN  \n",
       "3              NaN      NaN      NaN  \n",
       "4              NaN      NaN      NaN  "
      ]
     },
     "execution_count": 45,
     "metadata": {},
     "output_type": "execute_result"
    }
   ],
   "source": [
    "mustard_plus_plus_df = pd.read_csv(MUSTARD_PLUS_PLUS_DATASET_PATH)\n",
    "print(mustard_plus_plus_df.shape)\n",
    "mustard_plus_plus_df.head()"
   ]
  },
  {
   "cell_type": "code",
   "execution_count": 46,
   "metadata": {},
   "outputs": [
    {
     "data": {
      "text/html": [
       "<div>\n",
       "<style scoped>\n",
       "    .dataframe tbody tr th:only-of-type {\n",
       "        vertical-align: middle;\n",
       "    }\n",
       "\n",
       "    .dataframe tbody tr th {\n",
       "        vertical-align: top;\n",
       "    }\n",
       "\n",
       "    .dataframe thead th {\n",
       "        text-align: right;\n",
       "    }\n",
       "</style>\n",
       "<table border=\"1\" class=\"dataframe\">\n",
       "  <thead>\n",
       "    <tr style=\"text-align: right;\">\n",
       "      <th></th>\n",
       "      <th>SCENE</th>\n",
       "      <th>KEY</th>\n",
       "      <th>SENTENCE</th>\n",
       "      <th>END_TIME</th>\n",
       "      <th>SPEAKER</th>\n",
       "      <th>SHOW</th>\n",
       "      <th>Sarcasm</th>\n",
       "      <th>Sarcasm_Type</th>\n",
       "      <th>Implicit_Emotion</th>\n",
       "      <th>Explicit_Emotion</th>\n",
       "      <th>Valence</th>\n",
       "      <th>Arousal</th>\n",
       "    </tr>\n",
       "  </thead>\n",
       "  <tbody>\n",
       "    <tr>\n",
       "      <th>5</th>\n",
       "      <td>1_10004</td>\n",
       "      <td>1_10004_u</td>\n",
       "      <td>And of those few months, how long have you bee...</td>\n",
       "      <td>0:07</td>\n",
       "      <td>SHELDON</td>\n",
       "      <td>BBT</td>\n",
       "      <td>0.0</td>\n",
       "      <td>NONE</td>\n",
       "      <td>Anger</td>\n",
       "      <td>Anger</td>\n",
       "      <td>2.0</td>\n",
       "      <td>7.0</td>\n",
       "    </tr>\n",
       "    <tr>\n",
       "      <th>14</th>\n",
       "      <td>1_10009</td>\n",
       "      <td>1_10009_u</td>\n",
       "      <td>Let the dead man talk. So, why do you think that?</td>\n",
       "      <td>0:05</td>\n",
       "      <td>PENNY</td>\n",
       "      <td>BBT</td>\n",
       "      <td>0.0</td>\n",
       "      <td>NONE</td>\n",
       "      <td>Happiness</td>\n",
       "      <td>Happiness</td>\n",
       "      <td>6.0</td>\n",
       "      <td>5.0</td>\n",
       "    </tr>\n",
       "    <tr>\n",
       "      <th>18</th>\n",
       "      <td>1_1001</td>\n",
       "      <td>1_1001_u</td>\n",
       "      <td>What else? Sell it on eBay as \"slightly used.\"</td>\n",
       "      <td>0:04</td>\n",
       "      <td>RAJ</td>\n",
       "      <td>BBT</td>\n",
       "      <td>0.0</td>\n",
       "      <td>NONE</td>\n",
       "      <td>Excitement</td>\n",
       "      <td>Excitement</td>\n",
       "      <td>6.0</td>\n",
       "      <td>5.0</td>\n",
       "    </tr>\n",
       "    <tr>\n",
       "      <th>24</th>\n",
       "      <td>1_1003</td>\n",
       "      <td>1_1003_u</td>\n",
       "      <td>Good idea, sit with her. Hold her, comfort her...</td>\n",
       "      <td>0:08</td>\n",
       "      <td>HOWARD</td>\n",
       "      <td>BBT</td>\n",
       "      <td>1.0</td>\n",
       "      <td>PRO</td>\n",
       "      <td>Anger</td>\n",
       "      <td>Sadness</td>\n",
       "      <td>3.0</td>\n",
       "      <td>6.0</td>\n",
       "    </tr>\n",
       "    <tr>\n",
       "      <th>31</th>\n",
       "      <td>1_10190</td>\n",
       "      <td>1_10190_u</td>\n",
       "      <td>Well, now that I've given up string theory, I'...</td>\n",
       "      <td>0:11</td>\n",
       "      <td>SHELDON</td>\n",
       "      <td>BBT</td>\n",
       "      <td>0.0</td>\n",
       "      <td>NONE</td>\n",
       "      <td>Neutral</td>\n",
       "      <td>Neutral</td>\n",
       "      <td>5.0</td>\n",
       "      <td>5.0</td>\n",
       "    </tr>\n",
       "  </tbody>\n",
       "</table>\n",
       "</div>"
      ],
      "text/plain": [
       "      SCENE        KEY                                           SENTENCE  \\\n",
       "5   1_10004  1_10004_u  And of those few months, how long have you bee...   \n",
       "14  1_10009  1_10009_u  Let the dead man talk. So, why do you think that?   \n",
       "18   1_1001   1_1001_u     What else? Sell it on eBay as \"slightly used.\"   \n",
       "24   1_1003   1_1003_u  Good idea, sit with her. Hold her, comfort her...   \n",
       "31  1_10190  1_10190_u  Well, now that I've given up string theory, I'...   \n",
       "\n",
       "   END_TIME  SPEAKER SHOW  Sarcasm Sarcasm_Type Implicit_Emotion  \\\n",
       "5      0:07  SHELDON  BBT      0.0         NONE            Anger   \n",
       "14     0:05    PENNY  BBT      0.0         NONE        Happiness   \n",
       "18     0:04      RAJ  BBT      0.0         NONE       Excitement   \n",
       "24     0:08   HOWARD  BBT      1.0          PRO            Anger   \n",
       "31     0:11  SHELDON  BBT      0.0         NONE          Neutral   \n",
       "\n",
       "   Explicit_Emotion  Valence  Arousal  \n",
       "5             Anger      2.0      7.0  \n",
       "14        Happiness      6.0      5.0  \n",
       "18       Excitement      6.0      5.0  \n",
       "24          Sadness      3.0      6.0  \n",
       "31          Neutral      5.0      5.0  "
      ]
     },
     "execution_count": 46,
     "metadata": {},
     "output_type": "execute_result"
    }
   ],
   "source": [
    "mustard_plus_plus_df = mustard_plus_plus_df.dropna(subset=[\"Sarcasm\"])\n",
    "mustard_plus_plus_df.head()"
   ]
  },
  {
   "cell_type": "code",
   "execution_count": 47,
   "metadata": {},
   "outputs": [
    {
     "name": "stdout",
     "output_type": "stream",
     "text": [
      "(29821, 2)\n"
     ]
    }
   ],
   "source": [
    "mustard_plus_plus_df = mustard_plus_plus_df[[\"SENTENCE\", \"Sarcasm\"]].rename(\n",
    "    columns={\"SENTENCE\": \"sentence\", \"Sarcasm\": \"is_sarcastic\"}\n",
    ")\n",
    "combined_df = pd.concat([combined_df, mustard_plus_plus_df], ignore_index=True)\n",
    "\n",
    "print(combined_df.shape)"
   ]
  },
  {
   "cell_type": "markdown",
   "metadata": {},
   "source": [
    "## Sarcasm Corpus V2\n"
   ]
  },
  {
   "cell_type": "code",
   "execution_count": 48,
   "metadata": {},
   "outputs": [
    {
     "name": "stdout",
     "output_type": "stream",
     "text": [
      "     class  id                                               text\n",
      "0  notsarc   1  If that's true, then Freedom of Speech is doom...\n",
      "1  notsarc   2  Neener neener - is it time to go in from the p...\n",
      "2  notsarc   3  Just like the plastic gun fear, the armour pie...\n",
      "3  notsarc   4  So geology is a religion because we weren't he...\n",
      "4  notsarc   5  Well done Monty. Mark that up as your first ev...\n",
      "     class  id                                               text\n",
      "0  notsarc   1  have no predators to fear? check. who said we ...\n",
      "1  notsarc   2  2 hours? damn!  that book took me a good 2 day...\n",
      "2  notsarc   3  you never played myst? damn!!! i must be reall...\n",
      "3  notsarc   4  Well, if Genesis was in fact true, then we wou...\n",
      "4  notsarc   5  Just making sure that everybody is aware of hi...\n",
      "     class  id                                               text\n",
      "0  notsarc   1  Archie, the ONLY issue that gays don't have a ...\n",
      "1  notsarc   2  No, not really. All that is different is the n...\n",
      "2  notsarc   3  It's ashame that everyone keeps looking for th...\n",
      "3  notsarc   4  Almost? Usually, that is true, and it involves...\n",
      "4  notsarc   5  And so have animals. Plants have been wiped ou...\n"
     ]
    }
   ],
   "source": [
    "sarcasm_corpus_v2_gen_df = pd.read_csv(GEN_SARC_NOTSARC_DATASET_PATH)\n",
    "print(sarcasm_corpus_v2_gen_df.head())\n",
    "sarcasm_corpus_v2_hyp_df = pd.read_csv(HYP_SARC_NOTSARC_DATASET_PATH)\n",
    "print(sarcasm_corpus_v2_hyp_df.head())\n",
    "sarcasm_corpus_v2_rq_df = pd.read_csv(RQ_SARC_NOTSARC_DATASET_PATH)\n",
    "print(sarcasm_corpus_v2_rq_df.head())"
   ]
  },
  {
   "cell_type": "code",
   "execution_count": 49,
   "metadata": {},
   "outputs": [
    {
     "data": {
      "text/html": [
       "<div>\n",
       "<style scoped>\n",
       "    .dataframe tbody tr th:only-of-type {\n",
       "        vertical-align: middle;\n",
       "    }\n",
       "\n",
       "    .dataframe tbody tr th {\n",
       "        vertical-align: top;\n",
       "    }\n",
       "\n",
       "    .dataframe thead th {\n",
       "        text-align: right;\n",
       "    }\n",
       "</style>\n",
       "<table border=\"1\" class=\"dataframe\">\n",
       "  <thead>\n",
       "    <tr style=\"text-align: right;\">\n",
       "      <th></th>\n",
       "      <th>class</th>\n",
       "      <th>id</th>\n",
       "      <th>text</th>\n",
       "    </tr>\n",
       "  </thead>\n",
       "  <tbody>\n",
       "    <tr>\n",
       "      <th>0</th>\n",
       "      <td>notsarc</td>\n",
       "      <td>1</td>\n",
       "      <td>If that's true, then Freedom of Speech is doom...</td>\n",
       "    </tr>\n",
       "    <tr>\n",
       "      <th>1</th>\n",
       "      <td>notsarc</td>\n",
       "      <td>2</td>\n",
       "      <td>Neener neener - is it time to go in from the p...</td>\n",
       "    </tr>\n",
       "    <tr>\n",
       "      <th>2</th>\n",
       "      <td>notsarc</td>\n",
       "      <td>3</td>\n",
       "      <td>Just like the plastic gun fear, the armour pie...</td>\n",
       "    </tr>\n",
       "    <tr>\n",
       "      <th>3</th>\n",
       "      <td>notsarc</td>\n",
       "      <td>4</td>\n",
       "      <td>So geology is a religion because we weren't he...</td>\n",
       "    </tr>\n",
       "    <tr>\n",
       "      <th>4</th>\n",
       "      <td>notsarc</td>\n",
       "      <td>5</td>\n",
       "      <td>Well done Monty. Mark that up as your first ev...</td>\n",
       "    </tr>\n",
       "  </tbody>\n",
       "</table>\n",
       "</div>"
      ],
      "text/plain": [
       "     class  id                                               text\n",
       "0  notsarc   1  If that's true, then Freedom of Speech is doom...\n",
       "1  notsarc   2  Neener neener - is it time to go in from the p...\n",
       "2  notsarc   3  Just like the plastic gun fear, the armour pie...\n",
       "3  notsarc   4  So geology is a religion because we weren't he...\n",
       "4  notsarc   5  Well done Monty. Mark that up as your first ev..."
      ]
     },
     "execution_count": 49,
     "metadata": {},
     "output_type": "execute_result"
    }
   ],
   "source": [
    "sarcasm_corpus_v2_df = pd.concat(\n",
    "    [sarcasm_corpus_v2_gen_df, sarcasm_corpus_v2_hyp_df, sarcasm_corpus_v2_rq_df],\n",
    "    ignore_index=True,\n",
    ")\n",
    "sarcasm_corpus_v2_df.head()"
   ]
  },
  {
   "cell_type": "code",
   "execution_count": 50,
   "metadata": {},
   "outputs": [
    {
     "data": {
      "text/html": [
       "<div>\n",
       "<style scoped>\n",
       "    .dataframe tbody tr th:only-of-type {\n",
       "        vertical-align: middle;\n",
       "    }\n",
       "\n",
       "    .dataframe tbody tr th {\n",
       "        vertical-align: top;\n",
       "    }\n",
       "\n",
       "    .dataframe thead th {\n",
       "        text-align: right;\n",
       "    }\n",
       "</style>\n",
       "<table border=\"1\" class=\"dataframe\">\n",
       "  <thead>\n",
       "    <tr style=\"text-align: right;\">\n",
       "      <th></th>\n",
       "      <th>class</th>\n",
       "      <th>id</th>\n",
       "      <th>text</th>\n",
       "      <th>is_sarcastic</th>\n",
       "    </tr>\n",
       "  </thead>\n",
       "  <tbody>\n",
       "    <tr>\n",
       "      <th>0</th>\n",
       "      <td>notsarc</td>\n",
       "      <td>1</td>\n",
       "      <td>If that's true, then Freedom of Speech is doom...</td>\n",
       "      <td>0</td>\n",
       "    </tr>\n",
       "    <tr>\n",
       "      <th>1</th>\n",
       "      <td>notsarc</td>\n",
       "      <td>2</td>\n",
       "      <td>Neener neener - is it time to go in from the p...</td>\n",
       "      <td>0</td>\n",
       "    </tr>\n",
       "    <tr>\n",
       "      <th>2</th>\n",
       "      <td>notsarc</td>\n",
       "      <td>3</td>\n",
       "      <td>Just like the plastic gun fear, the armour pie...</td>\n",
       "      <td>0</td>\n",
       "    </tr>\n",
       "    <tr>\n",
       "      <th>3</th>\n",
       "      <td>notsarc</td>\n",
       "      <td>4</td>\n",
       "      <td>So geology is a religion because we weren't he...</td>\n",
       "      <td>0</td>\n",
       "    </tr>\n",
       "    <tr>\n",
       "      <th>4</th>\n",
       "      <td>notsarc</td>\n",
       "      <td>5</td>\n",
       "      <td>Well done Monty. Mark that up as your first ev...</td>\n",
       "      <td>0</td>\n",
       "    </tr>\n",
       "  </tbody>\n",
       "</table>\n",
       "</div>"
      ],
      "text/plain": [
       "     class  id                                               text  \\\n",
       "0  notsarc   1  If that's true, then Freedom of Speech is doom...   \n",
       "1  notsarc   2  Neener neener - is it time to go in from the p...   \n",
       "2  notsarc   3  Just like the plastic gun fear, the armour pie...   \n",
       "3  notsarc   4  So geology is a religion because we weren't he...   \n",
       "4  notsarc   5  Well done Monty. Mark that up as your first ev...   \n",
       "\n",
       "   is_sarcastic  \n",
       "0             0  \n",
       "1             0  \n",
       "2             0  \n",
       "3             0  \n",
       "4             0  "
      ]
     },
     "execution_count": 50,
     "metadata": {},
     "output_type": "execute_result"
    }
   ],
   "source": [
    "sarcasm_corpus_v2_df[\"is_sarcastic\"] = sarcasm_corpus_v2_df[\"class\"].apply(\n",
    "    lambda x: 0 if x == \"notsarc\" else 1\n",
    ")\n",
    "sarcasm_corpus_v2_df.head()"
   ]
  },
  {
   "cell_type": "code",
   "execution_count": 51,
   "metadata": {},
   "outputs": [
    {
     "data": {
      "text/html": [
       "<div>\n",
       "<style scoped>\n",
       "    .dataframe tbody tr th:only-of-type {\n",
       "        vertical-align: middle;\n",
       "    }\n",
       "\n",
       "    .dataframe tbody tr th {\n",
       "        vertical-align: top;\n",
       "    }\n",
       "\n",
       "    .dataframe thead th {\n",
       "        text-align: right;\n",
       "    }\n",
       "</style>\n",
       "<table border=\"1\" class=\"dataframe\">\n",
       "  <thead>\n",
       "    <tr style=\"text-align: right;\">\n",
       "      <th></th>\n",
       "      <th>sentence</th>\n",
       "      <th>is_sarcastic</th>\n",
       "    </tr>\n",
       "  </thead>\n",
       "  <tbody>\n",
       "    <tr>\n",
       "      <th>0</th>\n",
       "      <td>If that's true, then Freedom of Speech is doom...</td>\n",
       "      <td>0</td>\n",
       "    </tr>\n",
       "    <tr>\n",
       "      <th>1</th>\n",
       "      <td>Neener neener - is it time to go in from the p...</td>\n",
       "      <td>0</td>\n",
       "    </tr>\n",
       "    <tr>\n",
       "      <th>2</th>\n",
       "      <td>Just like the plastic gun fear, the armour pie...</td>\n",
       "      <td>0</td>\n",
       "    </tr>\n",
       "    <tr>\n",
       "      <th>3</th>\n",
       "      <td>So geology is a religion because we weren't he...</td>\n",
       "      <td>0</td>\n",
       "    </tr>\n",
       "    <tr>\n",
       "      <th>4</th>\n",
       "      <td>Well done Monty. Mark that up as your first ev...</td>\n",
       "      <td>0</td>\n",
       "    </tr>\n",
       "  </tbody>\n",
       "</table>\n",
       "</div>"
      ],
      "text/plain": [
       "                                            sentence  is_sarcastic\n",
       "0  If that's true, then Freedom of Speech is doom...             0\n",
       "1  Neener neener - is it time to go in from the p...             0\n",
       "2  Just like the plastic gun fear, the armour pie...             0\n",
       "3  So geology is a religion because we weren't he...             0\n",
       "4  Well done Monty. Mark that up as your first ev...             0"
      ]
     },
     "execution_count": 51,
     "metadata": {},
     "output_type": "execute_result"
    }
   ],
   "source": [
    "sarcasm_corpus_v2_df = sarcasm_corpus_v2_df[[\"text\", \"is_sarcastic\"]].rename(\n",
    "    columns={\"text\": \"sentence\"}\n",
    ")\n",
    "sarcasm_corpus_v2_df.head()"
   ]
  },
  {
   "cell_type": "code",
   "execution_count": 52,
   "metadata": {},
   "outputs": [
    {
     "name": "stdout",
     "output_type": "stream",
     "text": [
      "(39207, 2)\n"
     ]
    }
   ],
   "source": [
    "combined_df = pd.concat([combined_df, sarcasm_corpus_v2_df], ignore_index=True)\n",
    "print(combined_df.shape)"
   ]
  },
  {
   "cell_type": "markdown",
   "metadata": {},
   "source": [
    "## Amazon reviews dataset\n"
   ]
  },
  {
   "cell_type": "code",
   "execution_count": 53,
   "metadata": {},
   "outputs": [],
   "source": [
    "import os\n",
    "import re"
   ]
  },
  {
   "cell_type": "code",
   "execution_count": 54,
   "metadata": {},
   "outputs": [
    {
     "name": "stdout",
     "output_type": "stream",
     "text": [
      "[\"\\nSo far no problems like the ones listed by previous reviewers. Everything works great. I love the drivers getting installed so easily with the included CD. Also when I tried to overclock the memory, after the reboot the motherboard didn't like the settings, so it rebooted itself again after that, and basically reset the memory settings to the old settings. Nice feature!\\n \\n System specs:\\n - OCZ DDR3 PC3-10666 1333MHz Intel Extreme Edition XMP Ready Series 6GB Triple Channel Kit\\n - Razer Lachesis Mouse\\n - Samsung 22X SpeedPlus Serial ATA Internal DVD Writer\\n - EVGA 512-P3-N879-AR GeForce 9800 GTX +\\n - Western Digital 500GB Caviar\\n\", \"\\nIt's a bit bulkier than the \\n apple one, but works just fine.\\n \\n\", '\\nJust received my new Aria last night. This is my first ever Android phone - Full Disclosure: I am coming from an old Blackberry & Moto Slvr so I am not exactly on the bleeding edge of smartphone development. My initial impression after about 4 hours of use is - fantastic phone!\\n \\n Things did not get off to a good start however when I couldn\\'t get the phone apart to put the battery and SIM card in. I found the trick was to put my fingernail into the slot where you are supposed to split the phone apart and slide it to the left and right to get the top catches to release - others have said pushing the front out by pressing on the speakerphone in back while also using the slot works but I was hesitant to do that.\\n \\n The size and weight are perfect for my needs as I didn\\'t want something the size of the Spring Evo 4G, etc. Although the big displays on that phone and similar phones are great I just felt they were too big for my daily use (and I had to stay on AT&T). The upside is with the resolution on this screen on a physically smaller screen than say my son\\'s iPhone 3G the \"crispness\" of the display (especially text) is super.\\n \\n Physically the phone feels fantastic in hand and the build quality is excellent.\\n \\n Regarding the two primary AT&T induced drawbacks...no sideloading and AT&T bloatware: for the average user those are probably minor to non-issues. There are workarounds for both issues - the phone has already been rooted (check any of the Android developer forms) and custom ROMs are even available with the AT&T \"features\" removed. I was going to wait a few more weeks to let the hardware gurus fully explore the phone before making any modifications - but I really want that Swype keyboard.\\n \\n After a look at some of the AT&T software I think I might have to agree with some of the conspiracy crowd that AT&T would rather not be forced to deal with Android. Initial opening of the AT&T Hotspot app and the page is not centered?? Come on AT&T - at least make it look like you are trying! Sorry - I have been ticked off with AT&T from day one with regard to Android as I never understood how it was in their interest to NOT sell a phone that their customers want given the REAL revenue is in the two year data agreement - not the hardware.\\n \\n Lots more to explore but I don\\'t think you will be disappointed with the Aria (especially at Amazon\\'s price) if you decide to purchase one.\\n', '\\nTHIS THING IS AWESOME.  I AM NEVER SHAVING AGAIN. I just used it for the first time and have decided that I will never use a razor again.  I am a guy who never likes to shave, I maintain the \"few days of stubble\" look throughout the week, and dread the day when I have to go through the hassle of lathering up & shaving.  But this thing is so easy to use and it just cuts you down to whatever stubble-level you want in like 2 minutes!!!! PLUS it\\'s got this vacuum-device on it that sucks up the stray hairs into a special chamber, which you then pull out and empty when you\\'re done trimming.   so to quote Wayne\\'s World...\"It SUCKS as it CUTS!\"  I LOVE IT!! I AM IN LOVE WITH THIS TRIMMER!  I have never written a review for Amazon before and I\\'ve been shopping here for years! That\\'s how fired up I am about my new purchase!!!!\\n', '\\nI\\'m not going to go into deatil about the music here except to say if you are a Lady GaGa fan and liked The Fame, this is an absolute must have companion. However, after eagerly awaiting this release I was very disappointed to find this album is the censored version! The lyrics in \"Bad Romance,\" \"Dance In The Dark,\" and \"Monster\" have all been edited to remove the two profane words in GaGa\\'s original lyrics. I am outraged and shocked that a GaGa record would even be released as a censored and edited version. I understand that some people may choose to buy censored music, but I do not as I am an adult and feel that I should have the right to make my own choices about what I listen to. The censoring is really annoying because it sounds as if there is a skipping glitch in the flow of the songs. If I wanted to buy and listen to censored music I would shop at Walmart, which I refuse to do. Censorship is un-American and violates my rights as a free citizen!\\n \\n The Fame Monster = A+\\n Censorsed Lyrics = F\\n', '\\nWe bought this unit a little over two years ago and it sputtered and popped hot water from the very beginning. About six months ago it stopped working entirely.  Our new one is another brand and I confess I am very disappointed that a good brand name like InSinkErator would produce such garbage.\\n', '\\nWhat a very cool product, I got it a few weeks ago and have had so much fun with it.\\n  \\n On the plus side: \\n *Unit is small (just a bit bigger than a deck of cards)\\n *it is so simple to use\\n *take it anywhere and a ton of fun\\n *does not need ink \\n *can run on batteries\\n *bluetooth your pictures to it from you cell phone\\n *There is nothing out there like it\\n \\n Wish it had:\\n *Larger size (I hope they are working on one already)\\n *longer battery life (only 15 prints per charge)\\n \\n I took mine on the plane last week and then to dinner, it received so much attention, what a blast. So many people were asking \"what is that\" and \"can you take a picture of me\".  I hope they come out with one that prints larger sizes. The pictures are very good quality (better than polaroid instant, but not HD quality) but then again the fun factor is what this is made for, and if you like a picture you can print as many as you want. \\n \\n I give it a thumbs up, can\\'t wait till the next model (Come on Polaroid!)\\n \\n For a first run, I say home run, they could tweek it a bit and it would be perfect.\\n', '\\nI decided to replace my old \"all in one\" printer which I was using as a scanner and a photocopying with the Canon LIDE200.   I liked the specification: 4800x4800 dpi and a claimed 11 second scan rate. \\n \\n The first thing I noticed as I was unpacking the scanner from the box was a mysterious WARNING about unlocking the lid of the scanner.   The scanner was packed with the lid unlocked (as I found out later), and the instructions mentioned to keep the lid locked for travel or extensive handling.  Fair enough, but it made me wonder if I had already done something bad to my scanner (I hadn\\'t). \\n \\n I then installed the software.  I expected big things from Canon here, because generally they are pretty smart about software.   The software, in terms of use, is much better than the software I had for scanning with my old scanner.    The scanner has an \"easy\" setting that basically just scans at 300DPI without a fuss.    If you want to scan at full resolution, you have to open the \"driver\" that exposes a page with all the bells and whistles to let you really fine tune your scan and set the highest resolutions.  \\n \\n All this was fair enough, however I found a few minor disturbing problems with the software.   Firstly, once you\\'ve opened the \"driver\", it\\'s not intuitive to figure out how to get back to the \"no brainer\" mode.   Also, when you want to save your scan, it always seems to default to the scanning library it sets up.  If you override it, it doesn\\'t stay \"changed\".   This is a slight pain.  I always wonder who they hire to test and give feedback, because I always feel like I\\'m pointing out what should be the \"obvious\" to large companies like Canon (actually I really love Canon - so take no offense!). \\n \\n As far as scanning speed is concerned, the scanner does indeed scan a 300 dpi page in about 11 seconds (that\\'s pretty fast folks).  However, the estimate does not include the 3 seconds the software takes to respond to the command to begin scanning (I\\'m running a duo core processor - no slouch) and the few seconds it takes to save the image.   All in all, speed is impressive. \\n \\n Now on to document quality.  I tried scanning a few brochures and to be honest, at 300 DPI I wasn\\'t super impressed with the result.   So I went into the \"driver\" at set the scanning at maximum resolution (4800 x 4800).   You get a pretty good result at that resolution, but by no means was I blown away.   Perhaps more \"tweaks\" of the driver is needed.   I noticed that the scanner attempts to \"improve\" the picture (which it does) but some of the detail of the text was a little off (brochure had images and text).  I wondered if the lid of the scanner was making really good contact.  Next time I will add a few pages of plain white paper behind the image and see if it makes a difference. \\n \\n I tried scanning a printed document, and compared it to a printed document I scanned using my old scanner.   I scanned the image to a PDF and low and behold, a major, major improvement (at 300 DPI). \\n \\n So, I gave the scanner four \"stars\".  Why not five?   Well, the software is much easier to use than my old scanner, but still not without a few minor \"quirks\".    This is a great scanner for scanning documents.  How well it will actually scan and reproduce a photo is still in question, and perhaps I need to learn how to use the driver software better.  I don\\'t think I could scan an original photo without seeing some degradation in quality.  \\n \\n I\\'d be interested to hear other people\\'s experiences regarding copying photos.   I hope I\\'m wrong in my assessment, because I really expected a 4800x4800 scanner to reproduce \"dead on\" copies of a photo.\\n', '\\nINTRODUCTION\\n Mass Effect, by Electronic Arts (EA), sets the benchmark for third person role playing actions games. It is as close to a DVD movie as a video game can get, because, unlike most first person games, players can see and hear the player character as well as the non-player characters (NPCs).  This movie-like quality greatly enhances the compelling story, which is the hallmark of the Mass Effect Trilogy. \\n \\n THE PLOT\\n **Spoiler Alert**\\n This second episode of the Mass Effect Trilogy begins with the death (yes, DEATH) of Commander Shepard, in a fiery ambush of the Normandy, two years after he/she defeated the traitorous Saren Arterius in the battle of the Citadel.  But, thank the goddess, he/she is later resurrected in Project Lazarus by the Illusive Man, leader of Cerberus, a shadowy and ruthless \"human supremacist\" organization, for the sole purpose of sending the legendary commander to investigate a new cataclysmic event in the Galaxy: entire human colonies have been vanishing without a trace, leaving behind empty buildings. To confront the threat, Shepard travels across the Galaxy to recruit up to a dozen of the most dangerous characters to his/her elite team, at locations including Illium, an asari colony, and Omega, a lawless mining station built on a hollowed out asteroid in the Terminus Systems, for a mission from which every member of the team, including Commander Shepard, may never return.\\n **End of  Possible Spoilers**\\n \\n THE CHARACTERS \\n Players who had completed Mass Effect 1 (ME1) can import a Save Game from the list of Character Saves  into Mass Effect 2 (ME2).  During the file transfer, they have the option of changing the class of Commander Shepard, for example, from adept to vanguard, as well as his/her physical characteristics. This is possible in the storyline on account of Project Lazarus--a very clever way of putting Shepard on reset. If  Shepard was imported at a high level in ME1, players will be awarded with bonus squad points and research metals at the start.  (See my comment below.) All the NPCs who were alive at the end of the ME1 are transferred. Furthermore, the story in ME2 unfolds in accordance with the decisions made by the players in ME1, for example, whether Shepard set the Rachni queen free in Noveria, whether he/she resolved the conflict with Wrex on Virmire peacefully, or whether he/she called in the human fleet to save the Council in the battle of the Citadel. For those who never play ME1, ME2 can be played stand-alone with new characters and certain pre-set assumptions on events in ME1. New characters in ME2 include Thane, a drell master assassin, Legion, a free-thinking geth, who is stalking Commander Shepard, and Subject Zero, a female human biotic gang and cult member, with head-to-toe tattoos. Other than the geth and the Reapers, new enemies emerge in ME2. They include the Collectors, a winged insect-like species who are suspected to be working for the Reapers, and Scions, which are grotesque experiments of the Reaper, as well as monstrous beings created by the Reapers out of other species they abducted. \\n \\n THE GAME/COMBAT SYSTEM\\n The Artificial Intelligence (AI) and combat system have been vastly improved in ME2.  Gone are those annoying texture pop-ups in ME1.  So are those long elevator rides--they are replaced with loading screens.  Battle scenes are more realistic: enemies are thrown against walls, limbs are blown off, and wounded fighters continue to fight by crawling on the ground.  Players can hit the enemies where they place the reticles, like in a shooter.  (This is not so in ME1, where hits are calculated based on the number of skill points assigned by the players to the characters.)  Players can now issue attack orders to Shepard\\'s squad mates by using the directional-pad of the controller (of the Xbox 360), and manually prompt Commander Shepard to duck behind covers.  The limitless ammo is no more in ME2.  It is replaced with removable \"thermal clips\".  When a clip is spent, it must be ejected and replaced with a new one. Players are therefore advised to take note of the amount of thermo clips available during battles.  Instead of only four weapon types as in ME1, there are nineteen in ME2. One of my gripes with ME1 was the lack of heavy hand-held weapons.  In ME2, they are available to the soldier class player character (as well as Commander Shepard of all classes).  These heavy weapons knock down multiple enemies in one gigantic blast.  A sentinel class player character now dons an ablation tactical armor, which makes him/her very tough to kill.  An engineer class player character can launch a drone to aid him/her in battle.  An adept class player character can spawn micro-singularities around the enemies, annihilating them en masse. Tactical cloak, which renders a combatant invisible briefly, is available to an infiltrator class player character.  A vanguard class player character can dash around the battlefield with a new biotic power--the \"biotic charge\", which propels him/her forward at tremendous speed and force, to attack or evade the enemies.  There is no longer any class restriction in armor.  Medi-gel, used in the ME1 to regenerate health, is replaced with auto-regeneration, although the players still need it to cast the Unity reviving power.  (Note: auto-regeneration is also available in ME1, but only as an upgrade to the armors.)\\n \\n THE DIALOGUE\\n The dialogue wheel in ME1 is the most innovative dialogue system in all the games I have ever played.  When used probably, it delivers a continuous and seamless dialogue, and hence the movie-like quality of the game.  In ME2, the dialogue wheel is further improved.  A new \"interrupt\" system is introduced. When prompted by the players with the left or right trigger of the controller (of the Xbox 360), Commander Shepard can interrupt the dialogue with \"heroic\" or \"hostile\" action to get the answer he/she wants.  Furthermore, instead of the previous static camera position in ME1, the camera moves around during conversations in ME2, adding further cinematic effect to the game.\\n \\n THE CHOICES\\n Like in ME1, choices made by the players influence the outcome of the game in ME2.  For example, in ME1, on the planet Virmire, Commander Shepard (and hence the players), was called upon to decide which of the two squad mates he/she would rescue; the one left behind was consumed in a subsequent nuclear blast.  In the same manner, decisions of the players in ME2 throughout the game may eventually lead to the annihilation of the entire ground team in the final mission, including Commander Shepard, or the survival of every team member, or something in between. Players with a \"dead\" Shepard will not be able to import him/her into ME3. The same thing is true with a \"dead\" teammate.  They can play ME3 with a generic Shepard, but not \"their\" Shepard.   Furthermore, with Shepard killed, players can\\'t return to the game world after the final mission and continue to play, for example, to complete a side quest, or to explore a new locale.  They will have to start a new game or reload with a previous save-file and replay part of the game for a different outcome.  This gives incentive to players to make sound decisions throughout the game, before heading into the final mission.\\n \\n THE CERBERUS NETWORK\\n The Cerberus Network is a cleverly designed in-game portal through which players can access \"Downloadable Contents (DLCs)\" from EA.    Players activate this network with a one-time access code, which is included in every new game purchase.  Game renters and used game buyers will have to pay for the code.  This arrangement is apparently a ploy by EA to combat the rental and used game market, which has been undermining retail sales of new games.  Players who access the network will receive the first DLC pack on January 26, 2010, the date on which the game is released in North America.  This first DLC introduces Zaeed, a rough and tumble mercenary who will join Shepard\\'s elite team.  A future DLC will introduce the Hammerhead, a hover tank to replace the much-maligned Mako in ME1.  (Note: There is no driveable vehicle in the core game.) In addition, new missions and in-game items will be released to gamers by EA through this network.\\n \\n CONCLUSION\\n ME2 comes with 2 discs.  Players have to swap discs (twice per game) at some points. There are 90 voice actors playing 546 characters with over 30,000 lines of dialogue. New voice actors in ME2 include D.C. Douglas, Martin Sheen and Adam Baldwin.  In conclusion, ME2 is a role-playing game with the look and feel of a shooter.  It is a must-have game of the year.\\n \\n', '\\nTwo weeks ago, I needed a new coffee maker.  The Krups Aroma Control maker is in all the stores and catalogs, so I bought one in the local mall BEFORE reading the Amazon reviews.  BIG MISTAKE.  Lesson learned - read the reviews - many negative comments.  I used it for 3 days, and readily understood the description (...) of \"eye candy\" (looks nice, but seems like cheap plastic) and weak coffee (what they describe as a feature - allowing the coffee to steep - is really a euphemism for a poorly designed system that is guaranteed to give you a weak cup of coffee).  One redeeming feature - the carafe is very nice. Within 2 days of having the Krups, i was on Amazon looking for a replacement coffee maker (a good cup of coffee is critical in the morning!).  I went out on the risk curve and ordered the new Cuisinart - no reviews yet.  The Cuisinart has a more classic brewing system (water goes through grinds via gravity), yields a delicious cup of HOT coffee, has a variable temperature hot place, and looks and feels solid.  We happen to have stainless steel appliances (refrigerator, freezer, stove), and it matches beautifully.  Best news - excellent coffee!.  I would highly recommend the Cuisinart.\\n']\n"
     ]
    }
   ],
   "source": [
    "regular_txt_files: list[str] = [\n",
    "    f for f in os.listdir(SARCASM_AMAZON_REVIEWS_REGULAR_DIR_PATH) if f.endswith(\".txt\")\n",
    "]\n",
    "\n",
    "regular_reviews: list[str] = []\n",
    "\n",
    "for txt_file in regular_txt_files:\n",
    "    with open(\n",
    "        os.path.join(SARCASM_AMAZON_REVIEWS_REGULAR_DIR_PATH, txt_file),\n",
    "        mode=\"r\",\n",
    "        encoding=\"ascii\",\n",
    "        errors=\"ignore\",\n",
    "    ) as f:\n",
    "        content: str = f.read()\n",
    "        review: list[str] = re.findall(r\"<REVIEW>(.*?)</REVIEW>\", content, re.DOTALL)\n",
    "        regular_reviews.append(review[0]) if review else None\n",
    "\n",
    "print(regular_reviews[:10])"
   ]
  },
  {
   "cell_type": "code",
   "execution_count": 55,
   "metadata": {},
   "outputs": [
    {
     "name": "stdout",
     "output_type": "stream",
     "text": [
      "['\\nWilliam Hurt cannot read.  At all.  The cadence, inflection, and emotion of Hurt\\'s reading are inappropriate in almost every circumstance, and the accents he attempts are laughable.  I pity the first-time audio listener who might mistakenly pick up this lamentable reading and be turned off audiobooks altogether.  There should be a warning label, \"Danger, listening to William Hurt\\'s reading of \"The Sun Also Rises\" is known to nauseate expectant listeners\".  \\n \\n On the brighter side, I have listened to many other wonderful readings of Hemingway\\'s works including \"True at First Light\" read by Brian Dennehy and \"A Farewell to Arms\" read by John Slattery.  Do yourself a favor and listen to a different reader.\\n', '\\nAs another reviewer noted, these used to be 10 for $10. Now 6 for $10, pretty outrageous.\\n \\n The tubes work just fine, but geez, nice way to reward customer loyalty....\\n', \"\\nI've read several reviews from people who have wished that their Three Wolf Moon shirts had more wolves. It makes sense, right? The more wolves, the better. Yeah, and why don't you paint more angels on The Sistene Chapel, and correct the Mona Lisa's smile? While you're at it, maybe you could add a few tracks to Sgt. Pepper, and make the Great Wall even greater by adding a Starbucks and a Cinnabon. People, it's not like some art school dropout with an airbrush just pulled this design out of his . . . bag of tricks. No. There are three wolves and one moon for a reason.\\n \\n Don't believe me? Let this be a cautionary tale. Two months ago I had the guy at Shirts Ahoy at the mall press on eleven more wolves. (Two more above the moon; one on each sleeve; six on the back, all howling.) Walking out of the store, I could feel the heat from my freshly pressed wolves, and I figured I was about to have the best day of my life and I should probably buy a lottery ticket. But my first hint that something was not quite right was when I passed three girls in skirts standing in front of Urban Outfitters, and I did not hear the familiar, gentle thud of panties hitting the floor. I figured they must be lesbians and continued to the parking lot. Driving to work, I observed that the other vehicles didn't move out of the way for me, and lights did not automatically turn green as I approached. Very strange. When I got to work, there was actually a pile of unpleasant paperwork where there is normally a giant pile of cash. As I sat at my desk, I began to get a headache and feel hunger, something that hadn't happened to me since I first donned the TWM. I asked a female coworker to help me peel off the eleven new wolves, but she refused and said she was taking back her recent offer to fulfill my every fantasy. So I did it myself. First I removed the six on back, then the two on the sleeves, then I put the shirt back on and removed the three above the moon. When I peeled off the final wolf, the coworker came back in, replaced my paperwork with a Wii, and told me she was reinstating her offer. I then heard a very familiar, gentle thud.\\n \\n I may not understand the power of the lupine trinity. But hell, I don't understand electricity, or why the sky is blue. But I don't need to understand it; I only need to respect it. I will never mess with my TWM shirt again. I'm even careful when I bend over so I don't add an extra moon, if you know what I mean.\\n\", \"\\nIf you pay $250 for this blender you need your head examined.  It's bulky, heavy and does the exact same thing as any $25 WalMart blender.\\n\", \"\\nA perfect date movie: you'll miss absolutely nothing of merit if you make out in the back row instead of watching the film. \\n \\n\", '\\nI was curious when I first heard that the GND were going to put out an exercise video, since Im into exercise, I would want to try it out.  Bleh, to that.  I wasnt expecting the reincarnation of Tami Lee Webb.  But I sure wasnt expecting camera shots and music that were based in soft core porn.  Not one of those girls has ever hit the gym seriously in their life, because their form showed all.  They all say \"I have to do this this and that,\" but their lack of safe technique and their uncertainty in doing even a push-up gave their claim up.\\n \\n Some girls are naturally thin.  Lucky them.  Some arent.  I have to work to stay slim, and I hate it when you have naturally slim girls pretending they work hard for their body.  And truth be told....they are slender, and thats it.  They could use less aerobics and a heck of lot of muscle toning, because their thighs shouldnt be jiggling if they want to promote (Or is it pornmote) a fitness video.\\n \\n Kendra\\'s was the worst, as the consensus showed.  But Bridgit was not far behind as when she had to do her mountain climbers, she did them with the worst body mechanics possible, and her timing was completely off.  All of their timing was off.  This is NOT a fitness video, or exercise video.  This is a novelty video for people who want to see three girls in non-exercise wear (the cleavage shots grew tiresome) doing soft porn type maneuvers all in the name of \"fitness.\"\\n \\n I cant believe Im the only one to not like this.\\n', '\\nIf you are overweight, or even sensitive about your weight, don\\'t read this book! Iovine can\\'t resist saying \"fat\" without adding \"and ugly\" and she states in the beginning that overweight couch potatoes are not welcome in her circle of \"girlfriends.\" Towards the end of the book, she discusses the pregnant waddle, and reasons that all fat people waddle a bit anyway. She sympathizes with her husband for not being attracted to her. After all, you wouldn\\'t want to sleep with someone as fat as you, right? And she confides that her maternity wardrobe ran all the way up to a (gasp) size ten! The horror! Although this book was very entertaining and had some good information, I got tired of being slapped every couple of pages. The author simply can\\'t resist seperating her temporarily round self from those of us who struggle with our weight all the time. Does she not realize that the average American woman is a size 14? I really felt like I was reading this book as an outsider, so I waited until a skinny friend got pregnant and gave it to her. And by the way, Ms. Iovine, I am a size 16 and my husband can\\'t keep his hands off me. It would take a lot more than pregnancy and dark roots to push him away. If your husband is that picky about your looks, I feel sorry for you.\\n', '\\nMy son talked me into reading these books with him, and we loved them.  \\n When we went to see the new Harry Potter movie, scenes for it came on during the trailers. \\n \\n He recognized the story the second the preview started.  He was thrilled, and so was I.  What potential this unique and fun series had for a movie--or movies...I mean, they advertised that it was being brought to us by the people who make the Harry Potter movies.  \\n \\n The Potter movies stay so true to the book--taking care to absolutely keep things in the screenplay that are necessary to the plot line.  \\n \\n I wish I could say the same for this movie.\\n   \\n When it finally came out, we went to a movie theater in NJ that was right across the river from NYC.  \\n We could see the Empire State building from the theater parking lot, and took it as a sign that the movie was going to rock.  We were so psyched to see it.  \\n \\n When we left the theater, I thought my son was going to cry, and I couldn\\'t un-scrunch my eyebrows--huh?? I felt so bad for him, for me, for Rick Riordan...\\n   \\n We understand that it\\'s impossible to make a movie exactly like a book-- but this was a travesty. \\n Every important aspect of the story was by-passed for the sake of special effects.  \\n \\n It\\'s almost as if the screenwriter had been given a verbal summary of what the book was about, and took it from there. So many important plot points were left out or down right changed to the point that it would be impossible to even think about a sequel. \\n  \\n It\\'s such a shame.  These stories have the \"book made to movie\" potential of the Potter series, or dare I say, a kids \"Lord of the Rings\".  \\n \\n If someone with vision had just read the books, the money used to make it could have been so much better spent.  \\n \\n It could have been knocked out of the park, but, alas, the ball was dropped and we all lost.\\n', \"\\nSeldom a product comes around that arouses the senses in the way Tim and Eric Awesome Show: Great Job! does. When enjoying the show with my many coworkers and pets, I can't help but remember the great summer of 1993. For me, and many others, this is a return to the boldness yesteryear. It is a series that presents as many questions as it offers answers, sharing the joys of shrimp, sports and Bluetooth(tm) Technology with hundreds of millions of people across the globe.\\n \\n Are Tim and Eric guide you like a Euchaetes egle? Maybe not.\\n Could Richard Dunn be the next Dick Van Dyke? Perhaps on a perchance.\\n Does David Liebe Heart tear at your heartstrings every time he opens his beautifully shaped mouth? A thousand times, yes.\\n \\n Truly this 5-star cast will have you laughing as well as thinking within the first opening. Combine this with hundreds of celebrity guest appearances ranging from Oscar-winning Billy Crystals to music superstar DJ Douggpound and the viewer will have a euphoric experience presented in Digital Video Disk quality. \\n \\n \\n\", \"\\nUsually I am a huge fan of hats that look like food.  My meatloaf hat has been a hit for years.  When I received my turkey hat I carefully unwrapped the bubble wrap and gazed upon its tan beauty.  I, of course, melted like gravy.  For years the turkey hat design had been a mystery.  Many great food clothing designers have tried and failed, but I felt this one could have been the breakthrough we have all been waiting for.  I waited patiently as the months rolled by for that special November holiday to finally appear, and, without fail, it did.  I put on my usual Thanksgiving attire, black shoes, brown pants, white shirt and this great yellowish v neck sweater top I bought at this neat little shop in Solvang.  But my outfit was not complete.  I finally got the chance to put on my turkey hat.  It was less than fabulous.  My hopes were crushed.  The legs were a bit baggy and the tannish yellow was far from authentic.  I decided to wear it anyways in hopes we would see a Thanksgiving miracle, and as I entered my aunts house for our traditional thanksgiving dinner the room went silent.  Where years before my yam hats, buttery mash potato beret and my cranberry sauce tophat have all been cheered and talked about endlessly, my turkey hat was a flop, literally at times.  I don't know who made the initial pattern for this hat, but they should be jailed.  Something as serious as a turkey hat should not have fallen to whatever design intern was given this job.  It not only ruined my thanksgiving, it not only made my nephew throw up from crying so hard, but it made me lose my faith in food themed head wear.  SO thanks for  nothing turkey hat.\\n\"]\n"
     ]
    }
   ],
   "source": [
    "ironic_txt_files: list[str] = [\n",
    "    f for f in os.listdir(SARCASM_AMAZON_REVIEWS_IRONIC_DIR_PATH) if f.endswith(\".txt\")\n",
    "]\n",
    "\n",
    "ironic_reviews: list[str] = []\n",
    "\n",
    "for txt_file in ironic_txt_files:\n",
    "    with open(\n",
    "        os.path.join(SARCASM_AMAZON_REVIEWS_IRONIC_DIR_PATH, txt_file),\n",
    "        mode=\"r\",\n",
    "        encoding=\"ascii\",\n",
    "        errors=\"ignore\",\n",
    "    ) as f:\n",
    "        content: str = f.read()\n",
    "        review: list[str] = re.findall(r\"<REVIEW>(.*?)</REVIEW>\", content, re.DOTALL)\n",
    "        ironic_reviews.append(review[0]) if review else None\n",
    "\n",
    "print(ironic_reviews[:10])"
   ]
  },
  {
   "cell_type": "code",
   "execution_count": 56,
   "metadata": {},
   "outputs": [
    {
     "data": {
      "text/html": [
       "<div>\n",
       "<style scoped>\n",
       "    .dataframe tbody tr th:only-of-type {\n",
       "        vertical-align: middle;\n",
       "    }\n",
       "\n",
       "    .dataframe tbody tr th {\n",
       "        vertical-align: top;\n",
       "    }\n",
       "\n",
       "    .dataframe thead th {\n",
       "        text-align: right;\n",
       "    }\n",
       "</style>\n",
       "<table border=\"1\" class=\"dataframe\">\n",
       "  <thead>\n",
       "    <tr style=\"text-align: right;\">\n",
       "      <th></th>\n",
       "      <th>sentence</th>\n",
       "      <th>is_sarcastic</th>\n",
       "    </tr>\n",
       "  </thead>\n",
       "  <tbody>\n",
       "    <tr>\n",
       "      <th>0</th>\n",
       "      <td>\\nWilliam Hurt cannot read.  At all.  The cade...</td>\n",
       "      <td>1</td>\n",
       "    </tr>\n",
       "    <tr>\n",
       "      <th>1</th>\n",
       "      <td>\\nAs another reviewer noted, these used to be ...</td>\n",
       "      <td>1</td>\n",
       "    </tr>\n",
       "    <tr>\n",
       "      <th>2</th>\n",
       "      <td>\\nI've read several reviews from people who ha...</td>\n",
       "      <td>1</td>\n",
       "    </tr>\n",
       "    <tr>\n",
       "      <th>3</th>\n",
       "      <td>\\nIf you pay $250 for this blender you need yo...</td>\n",
       "      <td>1</td>\n",
       "    </tr>\n",
       "    <tr>\n",
       "      <th>4</th>\n",
       "      <td>\\nA perfect date movie: you'll miss absolutely...</td>\n",
       "      <td>1</td>\n",
       "    </tr>\n",
       "  </tbody>\n",
       "</table>\n",
       "</div>"
      ],
      "text/plain": [
       "                                            sentence  is_sarcastic\n",
       "0  \\nWilliam Hurt cannot read.  At all.  The cade...             1\n",
       "1  \\nAs another reviewer noted, these used to be ...             1\n",
       "2  \\nI've read several reviews from people who ha...             1\n",
       "3  \\nIf you pay $250 for this blender you need yo...             1\n",
       "4  \\nA perfect date movie: you'll miss absolutely...             1"
      ]
     },
     "execution_count": 56,
     "metadata": {},
     "output_type": "execute_result"
    }
   ],
   "source": [
    "ironic_df = pd.DataFrame({\"sentence\": ironic_reviews, \"is_sarcastic\": 1})\n",
    "regular_df = pd.DataFrame({\"sentence\": regular_reviews, \"is_sarcastic\": 0})\n",
    "\n",
    "ironic_df.head()"
   ]
  },
  {
   "cell_type": "code",
   "execution_count": 57,
   "metadata": {},
   "outputs": [
    {
     "data": {
      "text/html": [
       "<div>\n",
       "<style scoped>\n",
       "    .dataframe tbody tr th:only-of-type {\n",
       "        vertical-align: middle;\n",
       "    }\n",
       "\n",
       "    .dataframe tbody tr th {\n",
       "        vertical-align: top;\n",
       "    }\n",
       "\n",
       "    .dataframe thead th {\n",
       "        text-align: right;\n",
       "    }\n",
       "</style>\n",
       "<table border=\"1\" class=\"dataframe\">\n",
       "  <thead>\n",
       "    <tr style=\"text-align: right;\">\n",
       "      <th></th>\n",
       "      <th>sentence</th>\n",
       "      <th>is_sarcastic</th>\n",
       "    </tr>\n",
       "  </thead>\n",
       "  <tbody>\n",
       "    <tr>\n",
       "      <th>0</th>\n",
       "      <td>\\nWilliam Hurt cannot read.  At all.  The cade...</td>\n",
       "      <td>1</td>\n",
       "    </tr>\n",
       "    <tr>\n",
       "      <th>1</th>\n",
       "      <td>\\nAs another reviewer noted, these used to be ...</td>\n",
       "      <td>1</td>\n",
       "    </tr>\n",
       "    <tr>\n",
       "      <th>2</th>\n",
       "      <td>\\nI've read several reviews from people who ha...</td>\n",
       "      <td>1</td>\n",
       "    </tr>\n",
       "    <tr>\n",
       "      <th>3</th>\n",
       "      <td>\\nIf you pay $250 for this blender you need yo...</td>\n",
       "      <td>1</td>\n",
       "    </tr>\n",
       "    <tr>\n",
       "      <th>4</th>\n",
       "      <td>\\nA perfect date movie: you'll miss absolutely...</td>\n",
       "      <td>1</td>\n",
       "    </tr>\n",
       "  </tbody>\n",
       "</table>\n",
       "</div>"
      ],
      "text/plain": [
       "                                            sentence  is_sarcastic\n",
       "0  \\nWilliam Hurt cannot read.  At all.  The cade...             1\n",
       "1  \\nAs another reviewer noted, these used to be ...             1\n",
       "2  \\nI've read several reviews from people who ha...             1\n",
       "3  \\nIf you pay $250 for this blender you need yo...             1\n",
       "4  \\nA perfect date movie: you'll miss absolutely...             1"
      ]
     },
     "execution_count": 57,
     "metadata": {},
     "output_type": "execute_result"
    }
   ],
   "source": [
    "amazon_combined = pd.concat([ironic_df, regular_df], ignore_index=True)\n",
    "amazon_combined.head()"
   ]
  },
  {
   "cell_type": "code",
   "execution_count": 58,
   "metadata": {},
   "outputs": [
    {
     "data": {
      "text/plain": [
       "(40461, 2)"
      ]
     },
     "execution_count": 58,
     "metadata": {},
     "output_type": "execute_result"
    }
   ],
   "source": [
    "combined_df = pd.concat([combined_df, amazon_combined], ignore_index=True)\n",
    "combined_df.shape"
   ]
  },
  {
   "cell_type": "markdown",
   "metadata": {},
   "source": [
    "## Save to Parquet\n"
   ]
  },
  {
   "cell_type": "code",
   "execution_count": 59,
   "metadata": {},
   "outputs": [],
   "source": [
    "combined_df.to_parquet(\"../datasets/combined.parquet\")\n",
    "combined_df.to_csv(\"../datasets/combined.csv\")"
   ]
  },
  {
   "cell_type": "markdown",
   "metadata": {},
   "source": [
    "## Some statistics\n"
   ]
  },
  {
   "cell_type": "code",
   "execution_count": 60,
   "metadata": {},
   "outputs": [
    {
     "data": {
      "image/png": "[encoded data removed]",
      "text/plain": [
       "<Figure size 640x480 with 1 Axes>"
      ]
     },
     "metadata": {},
     "output_type": "display_data"
    }
   ],
   "source": [
    "import matplotlib.pyplot as plt\n",
    "\n",
    "combined_df[\"sentence_length\"] = combined_df[\"sentence\"].apply(lambda x: len(x.split()))\n",
    "freq_counts, bin_edges, _ = plt.hist(combined_df[\"sentence_length\"], bins=100)\n",
    "plt.yscale(\"log\")\n",
    "plt.ylabel(\"Frequency (log scale)\")\n",
    "plt.xlabel(\"Sentence Length\")\n",
    "plt.title(\"Distribution of Sentence Length\")\n",
    "plt.show()"
   ]
  }
 ],
 "metadata": {
  "kernelspec": {
   "display_name": "Python 3",
   "language": "python",
   "name": "python3"
  },
  "language_info": {
   "codemirror_mode": {
    "name": "ipython",
    "version": 3
   },
   "file_extension": ".py",
   "mimetype": "text/x-python",
   "name": "python",
   "nbconvert_exporter": "python",
   "pygments_lexer": "ipython3",
   "version": "3.10.12"
  }
 },
 "nbformat": 4,
 "nbformat_minor": 2
}
