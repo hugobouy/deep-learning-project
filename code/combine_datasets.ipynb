{
 "cells": [
  {
   "cell_type": "code",
   "execution_count": 1,
   "metadata": {},
   "outputs": [],
   "source": [
    "import pandas as pd\n",
    "\n",
    "SARCASM_HEADLINES_DATASET_PATH = \"../datasets/Sarcasm_Headlines_Dataset.json\"\n",
    "MUSTARD_PLUS_PLUS_DATASET_PATH = \"../datasets/mustard++_text.csv\"\n",
    "# From Sarcasm Corpus V2\n",
    "# GEN (general sarcasm), HYP (hyperbole), and RQ (rhetorical questions).\n",
    "GEN_SARC_NOTSARC_DATASET_PATH = \"../datasets/GEN-sarc-notsarc.csv\"\n",
    "HYP_SARC_NOTSARC_DATASET_PATH = \"../datasets/HYP-sarc-notsarc.csv\"\n",
    "RQ_SARC_NOTSARC_DATASET_PATH = \"../datasets/RQ-sarc-notsarc.csv\""
   ]
  },
  {
   "cell_type": "code",
   "execution_count": 2,
   "metadata": {},
   "outputs": [],
   "source": [
    "combined_df = pd.DataFrame(columns=[\"sentence\", \"is_sarcastic\"])"
   ]
  },
  {
   "cell_type": "markdown",
   "metadata": {},
   "source": [
    "## Sarcasm headlines dataset\n"
   ]
  },
  {
   "cell_type": "code",
   "execution_count": 3,
   "metadata": {},
   "outputs": [
    {
     "name": "stdout",
     "output_type": "stream",
     "text": [
      "   is_sarcastic                                           headline  \\\n",
      "0             1  thirtysomething scientists unveil doomsday clo...   \n",
      "1             0  dem rep. totally nails why congress is falling...   \n",
      "2             0  eat your veggies: 9 deliciously different recipes   \n",
      "3             1  inclement weather prevents liar from getting t...   \n",
      "4             1  mother comes pretty close to using word 'strea...   \n",
      "\n",
      "                                        article_link  \n",
      "0  https://www.theonion.com/thirtysomething-scien...  \n",
      "1  https://www.huffingtonpost.com/entry/donna-edw...  \n",
      "2  https://www.huffingtonpost.com/entry/eat-your-...  \n",
      "3  https://local.theonion.com/inclement-weather-p...  \n",
      "4  https://www.theonion.com/mother-comes-pretty-c...  \n",
      "(28619, 3)\n"
     ]
    }
   ],
   "source": [
    "sarcasm_headlines_df: pd.DataFrame = pd.read_json(\n",
    "    SARCASM_HEADLINES_DATASET_PATH, lines=True\n",
    ")\n",
    "print(sarcasm_headlines_df.head())\n",
    "print(sarcasm_headlines_df.shape)"
   ]
  },
  {
   "cell_type": "code",
   "execution_count": 4,
   "metadata": {},
   "outputs": [
    {
     "name": "stdout",
     "output_type": "stream",
     "text": [
      "                                            sentence is_sarcastic  \\\n",
      "0  thirtysomething scientists unveil doomsday clo...            1   \n",
      "1  dem rep. totally nails why congress is falling...            0   \n",
      "2  eat your veggies: 9 deliciously different recipes            0   \n",
      "3  inclement weather prevents liar from getting t...            1   \n",
      "4  mother comes pretty close to using word 'strea...            1   \n",
      "\n",
      "                                        article_link  \n",
      "0  https://www.theonion.com/thirtysomething-scien...  \n",
      "1  https://www.huffingtonpost.com/entry/donna-edw...  \n",
      "2  https://www.huffingtonpost.com/entry/eat-your-...  \n",
      "3  https://local.theonion.com/inclement-weather-p...  \n",
      "4  https://www.theonion.com/mother-comes-pretty-c...  \n"
     ]
    }
   ],
   "source": [
    "sarcasm_headlines_df = sarcasm_headlines_df.rename(columns={\"headline\": \"sentence\"})\n",
    "combined_df = pd.concat([combined_df, sarcasm_headlines_df], ignore_index=True)\n",
    "print(combined_df.head())"
   ]
  },
  {
   "cell_type": "markdown",
   "metadata": {},
   "source": [
    "## Mustard++ dataset\n"
   ]
  },
  {
   "cell_type": "code",
   "execution_count": 5,
   "metadata": {},
   "outputs": [
    {
     "name": "stdout",
     "output_type": "stream",
     "text": [
      "(6041, 12)\n"
     ]
    },
    {
     "data": {
      "text/html": [
       "<div>\n",
       "<style scoped>\n",
       "    .dataframe tbody tr th:only-of-type {\n",
       "        vertical-align: middle;\n",
       "    }\n",
       "\n",
       "    .dataframe tbody tr th {\n",
       "        vertical-align: top;\n",
       "    }\n",
       "\n",
       "    .dataframe thead th {\n",
       "        text-align: right;\n",
       "    }\n",
       "</style>\n",
       "<table border=\"1\" class=\"dataframe\">\n",
       "  <thead>\n",
       "    <tr style=\"text-align: right;\">\n",
       "      <th></th>\n",
       "      <th>SCENE</th>\n",
       "      <th>KEY</th>\n",
       "      <th>SENTENCE</th>\n",
       "      <th>END_TIME</th>\n",
       "      <th>SPEAKER</th>\n",
       "      <th>SHOW</th>\n",
       "      <th>Sarcasm</th>\n",
       "      <th>Sarcasm_Type</th>\n",
       "      <th>Implicit_Emotion</th>\n",
       "      <th>Explicit_Emotion</th>\n",
       "      <th>Valence</th>\n",
       "      <th>Arousal</th>\n",
       "    </tr>\n",
       "  </thead>\n",
       "  <tbody>\n",
       "    <tr>\n",
       "      <th>0</th>\n",
       "      <td>1_10004</td>\n",
       "      <td>1_10004_c_00</td>\n",
       "      <td>Well, I'm sure that, uh, you...\\nhave a lot of...</td>\n",
       "      <td>0:06</td>\n",
       "      <td>PERSON</td>\n",
       "      <td>BBT</td>\n",
       "      <td>NaN</td>\n",
       "      <td>NaN</td>\n",
       "      <td>NaN</td>\n",
       "      <td>NaN</td>\n",
       "      <td>NaN</td>\n",
       "      <td>NaN</td>\n",
       "    </tr>\n",
       "    <tr>\n",
       "      <th>1</th>\n",
       "      <td>1_10004</td>\n",
       "      <td>1_10004_c_01</td>\n",
       "      <td>Who was he?</td>\n",
       "      <td>0:08</td>\n",
       "      <td>SHELDON</td>\n",
       "      <td>BBT</td>\n",
       "      <td>NaN</td>\n",
       "      <td>NaN</td>\n",
       "      <td>NaN</td>\n",
       "      <td>NaN</td>\n",
       "      <td>NaN</td>\n",
       "      <td>NaN</td>\n",
       "    </tr>\n",
       "    <tr>\n",
       "      <th>2</th>\n",
       "      <td>1_10004</td>\n",
       "      <td>1_10004_c_02</td>\n",
       "      <td>His name is Ron.\\nI met him at my prayer group.</td>\n",
       "      <td>0:12</td>\n",
       "      <td>PERSON</td>\n",
       "      <td>BBT</td>\n",
       "      <td>NaN</td>\n",
       "      <td>NaN</td>\n",
       "      <td>NaN</td>\n",
       "      <td>NaN</td>\n",
       "      <td>NaN</td>\n",
       "      <td>NaN</td>\n",
       "    </tr>\n",
       "    <tr>\n",
       "      <th>3</th>\n",
       "      <td>1_10004</td>\n",
       "      <td>1_10004_c_03</td>\n",
       "      <td>How long have you been involved with him?</td>\n",
       "      <td>0:14</td>\n",
       "      <td>SHELDON</td>\n",
       "      <td>BBT</td>\n",
       "      <td>NaN</td>\n",
       "      <td>NaN</td>\n",
       "      <td>NaN</td>\n",
       "      <td>NaN</td>\n",
       "      <td>NaN</td>\n",
       "      <td>NaN</td>\n",
       "    </tr>\n",
       "    <tr>\n",
       "      <th>4</th>\n",
       "      <td>1_10004</td>\n",
       "      <td>1_10004_c_04</td>\n",
       "      <td>A few months.</td>\n",
       "      <td>0:16</td>\n",
       "      <td>PERSON</td>\n",
       "      <td>BBT</td>\n",
       "      <td>NaN</td>\n",
       "      <td>NaN</td>\n",
       "      <td>NaN</td>\n",
       "      <td>NaN</td>\n",
       "      <td>NaN</td>\n",
       "      <td>NaN</td>\n",
       "    </tr>\n",
       "  </tbody>\n",
       "</table>\n",
       "</div>"
      ],
      "text/plain": [
       "     SCENE           KEY                                           SENTENCE  \\\n",
       "0  1_10004  1_10004_c_00  Well, I'm sure that, uh, you...\\nhave a lot of...   \n",
       "1  1_10004  1_10004_c_01                                        Who was he?   \n",
       "2  1_10004  1_10004_c_02    His name is Ron.\\nI met him at my prayer group.   \n",
       "3  1_10004  1_10004_c_03          How long have you been involved with him?   \n",
       "4  1_10004  1_10004_c_04                                      A few months.   \n",
       "\n",
       "  END_TIME  SPEAKER SHOW  Sarcasm Sarcasm_Type Implicit_Emotion  \\\n",
       "0     0:06   PERSON  BBT      NaN          NaN              NaN   \n",
       "1     0:08  SHELDON  BBT      NaN          NaN              NaN   \n",
       "2     0:12   PERSON  BBT      NaN          NaN              NaN   \n",
       "3     0:14  SHELDON  BBT      NaN          NaN              NaN   \n",
       "4     0:16   PERSON  BBT      NaN          NaN              NaN   \n",
       "\n",
       "  Explicit_Emotion  Valence  Arousal  \n",
       "0              NaN      NaN      NaN  \n",
       "1              NaN      NaN      NaN  \n",
       "2              NaN      NaN      NaN  \n",
       "3              NaN      NaN      NaN  \n",
       "4              NaN      NaN      NaN  "
      ]
     },
     "execution_count": 5,
     "metadata": {},
     "output_type": "execute_result"
    }
   ],
   "source": [
    "mustard_plus_plus_df = pd.read_csv(MUSTARD_PLUS_PLUS_DATASET_PATH)\n",
    "print(mustard_plus_plus_df.shape)\n",
    "mustard_plus_plus_df.head()"
   ]
  },
  {
   "cell_type": "code",
   "execution_count": 6,
   "metadata": {},
   "outputs": [
    {
     "data": {
      "text/html": [
       "<div>\n",
       "<style scoped>\n",
       "    .dataframe tbody tr th:only-of-type {\n",
       "        vertical-align: middle;\n",
       "    }\n",
       "\n",
       "    .dataframe tbody tr th {\n",
       "        vertical-align: top;\n",
       "    }\n",
       "\n",
       "    .dataframe thead th {\n",
       "        text-align: right;\n",
       "    }\n",
       "</style>\n",
       "<table border=\"1\" class=\"dataframe\">\n",
       "  <thead>\n",
       "    <tr style=\"text-align: right;\">\n",
       "      <th></th>\n",
       "      <th>SCENE</th>\n",
       "      <th>KEY</th>\n",
       "      <th>SENTENCE</th>\n",
       "      <th>END_TIME</th>\n",
       "      <th>SPEAKER</th>\n",
       "      <th>SHOW</th>\n",
       "      <th>Sarcasm</th>\n",
       "      <th>Sarcasm_Type</th>\n",
       "      <th>Implicit_Emotion</th>\n",
       "      <th>Explicit_Emotion</th>\n",
       "      <th>Valence</th>\n",
       "      <th>Arousal</th>\n",
       "    </tr>\n",
       "  </thead>\n",
       "  <tbody>\n",
       "    <tr>\n",
       "      <th>5</th>\n",
       "      <td>1_10004</td>\n",
       "      <td>1_10004_u</td>\n",
       "      <td>And of those few months, how long have you bee...</td>\n",
       "      <td>0:07</td>\n",
       "      <td>SHELDON</td>\n",
       "      <td>BBT</td>\n",
       "      <td>0.0</td>\n",
       "      <td>NONE</td>\n",
       "      <td>Anger</td>\n",
       "      <td>Anger</td>\n",
       "      <td>2.0</td>\n",
       "      <td>7.0</td>\n",
       "    </tr>\n",
       "    <tr>\n",
       "      <th>14</th>\n",
       "      <td>1_10009</td>\n",
       "      <td>1_10009_u</td>\n",
       "      <td>Let the dead man talk. So, why do you think that?</td>\n",
       "      <td>0:05</td>\n",
       "      <td>PENNY</td>\n",
       "      <td>BBT</td>\n",
       "      <td>0.0</td>\n",
       "      <td>NONE</td>\n",
       "      <td>Happiness</td>\n",
       "      <td>Happiness</td>\n",
       "      <td>6.0</td>\n",
       "      <td>5.0</td>\n",
       "    </tr>\n",
       "    <tr>\n",
       "      <th>18</th>\n",
       "      <td>1_1001</td>\n",
       "      <td>1_1001_u</td>\n",
       "      <td>What else? Sell it on eBay as \"slightly used.\"</td>\n",
       "      <td>0:04</td>\n",
       "      <td>RAJ</td>\n",
       "      <td>BBT</td>\n",
       "      <td>0.0</td>\n",
       "      <td>NONE</td>\n",
       "      <td>Excitement</td>\n",
       "      <td>Excitement</td>\n",
       "      <td>6.0</td>\n",
       "      <td>5.0</td>\n",
       "    </tr>\n",
       "    <tr>\n",
       "      <th>24</th>\n",
       "      <td>1_1003</td>\n",
       "      <td>1_1003_u</td>\n",
       "      <td>Good idea, sit with her. Hold her, comfort her...</td>\n",
       "      <td>0:08</td>\n",
       "      <td>HOWARD</td>\n",
       "      <td>BBT</td>\n",
       "      <td>1.0</td>\n",
       "      <td>PRO</td>\n",
       "      <td>Anger</td>\n",
       "      <td>Sadness</td>\n",
       "      <td>3.0</td>\n",
       "      <td>6.0</td>\n",
       "    </tr>\n",
       "    <tr>\n",
       "      <th>31</th>\n",
       "      <td>1_10190</td>\n",
       "      <td>1_10190_u</td>\n",
       "      <td>Well, now that I've given up string theory, I'...</td>\n",
       "      <td>0:11</td>\n",
       "      <td>SHELDON</td>\n",
       "      <td>BBT</td>\n",
       "      <td>0.0</td>\n",
       "      <td>NONE</td>\n",
       "      <td>Neutral</td>\n",
       "      <td>Neutral</td>\n",
       "      <td>5.0</td>\n",
       "      <td>5.0</td>\n",
       "    </tr>\n",
       "  </tbody>\n",
       "</table>\n",
       "</div>"
      ],
      "text/plain": [
       "      SCENE        KEY                                           SENTENCE  \\\n",
       "5   1_10004  1_10004_u  And of those few months, how long have you bee...   \n",
       "14  1_10009  1_10009_u  Let the dead man talk. So, why do you think that?   \n",
       "18   1_1001   1_1001_u     What else? Sell it on eBay as \"slightly used.\"   \n",
       "24   1_1003   1_1003_u  Good idea, sit with her. Hold her, comfort her...   \n",
       "31  1_10190  1_10190_u  Well, now that I've given up string theory, I'...   \n",
       "\n",
       "   END_TIME  SPEAKER SHOW  Sarcasm Sarcasm_Type Implicit_Emotion  \\\n",
       "5      0:07  SHELDON  BBT      0.0         NONE            Anger   \n",
       "14     0:05    PENNY  BBT      0.0         NONE        Happiness   \n",
       "18     0:04      RAJ  BBT      0.0         NONE       Excitement   \n",
       "24     0:08   HOWARD  BBT      1.0          PRO            Anger   \n",
       "31     0:11  SHELDON  BBT      0.0         NONE          Neutral   \n",
       "\n",
       "   Explicit_Emotion  Valence  Arousal  \n",
       "5             Anger      2.0      7.0  \n",
       "14        Happiness      6.0      5.0  \n",
       "18       Excitement      6.0      5.0  \n",
       "24          Sadness      3.0      6.0  \n",
       "31          Neutral      5.0      5.0  "
      ]
     },
     "execution_count": 6,
     "metadata": {},
     "output_type": "execute_result"
    }
   ],
   "source": [
    "mustard_plus_plus_df = mustard_plus_plus_df.dropna(subset=[\"Sarcasm\"])\n",
    "mustard_plus_plus_df.head()"
   ]
  },
  {
   "cell_type": "code",
   "execution_count": 7,
   "metadata": {},
   "outputs": [
    {
     "name": "stdout",
     "output_type": "stream",
     "text": [
      "(29821, 3)\n"
     ]
    }
   ],
   "source": [
    "mustard_plus_plus_df = mustard_plus_plus_df[[\"SENTENCE\", \"Sarcasm\"]].rename(\n",
    "    columns={\"SENTENCE\": \"sentence\", \"Sarcasm\": \"is_sarcastic\"}\n",
    ")\n",
    "combined_df = pd.concat([combined_df, mustard_plus_plus_df], ignore_index=True)\n",
    "\n",
    "print(combined_df.shape)"
   ]
  },
  {
   "cell_type": "markdown",
   "metadata": {},
   "source": [
    "## Sarcasm Corpus V2\n"
   ]
  },
  {
   "cell_type": "code",
   "execution_count": 8,
   "metadata": {},
   "outputs": [
    {
     "name": "stdout",
     "output_type": "stream",
     "text": [
      "     class  id                                               text\n",
      "0  notsarc   1  If that's true, then Freedom of Speech is doom...\n",
      "1  notsarc   2  Neener neener - is it time to go in from the p...\n",
      "2  notsarc   3  Just like the plastic gun fear, the armour pie...\n",
      "3  notsarc   4  So geology is a religion because we weren't he...\n",
      "4  notsarc   5  Well done Monty. Mark that up as your first ev...\n",
      "     class  id                                               text\n",
      "0  notsarc   1  have no predators to fear? check. who said we ...\n",
      "1  notsarc   2  2 hours? damn!  that book took me a good 2 day...\n",
      "2  notsarc   3  you never played myst? damn!!! i must be reall...\n",
      "3  notsarc   4  Well, if Genesis was in fact true, then we wou...\n",
      "4  notsarc   5  Just making sure that everybody is aware of hi...\n",
      "     class  id                                               text\n",
      "0  notsarc   1  Archie, the ONLY issue that gays don't have a ...\n",
      "1  notsarc   2  No, not really. All that is different is the n...\n",
      "2  notsarc   3  It's ashame that everyone keeps looking for th...\n",
      "3  notsarc   4  Almost? Usually, that is true, and it involves...\n",
      "4  notsarc   5  And so have animals. Plants have been wiped ou...\n"
     ]
    }
   ],
   "source": [
    "sarcasm_corpus_v2_gen_df = pd.read_csv(GEN_SARC_NOTSARC_DATASET_PATH)\n",
    "print(sarcasm_corpus_v2_gen_df.head())\n",
    "sarcasm_corpus_v2_hyp_df = pd.read_csv(HYP_SARC_NOTSARC_DATASET_PATH)\n",
    "print(sarcasm_corpus_v2_hyp_df.head())\n",
    "sarcasm_corpus_v2_rq_df = pd.read_csv(RQ_SARC_NOTSARC_DATASET_PATH)\n",
    "print(sarcasm_corpus_v2_rq_df.head())"
   ]
  },
  {
   "cell_type": "code",
   "execution_count": 9,
   "metadata": {},
   "outputs": [
    {
     "data": {
      "text/html": [
       "<div>\n",
       "<style scoped>\n",
       "    .dataframe tbody tr th:only-of-type {\n",
       "        vertical-align: middle;\n",
       "    }\n",
       "\n",
       "    .dataframe tbody tr th {\n",
       "        vertical-align: top;\n",
       "    }\n",
       "\n",
       "    .dataframe thead th {\n",
       "        text-align: right;\n",
       "    }\n",
       "</style>\n",
       "<table border=\"1\" class=\"dataframe\">\n",
       "  <thead>\n",
       "    <tr style=\"text-align: right;\">\n",
       "      <th></th>\n",
       "      <th>class</th>\n",
       "      <th>id</th>\n",
       "      <th>text</th>\n",
       "    </tr>\n",
       "  </thead>\n",
       "  <tbody>\n",
       "    <tr>\n",
       "      <th>0</th>\n",
       "      <td>notsarc</td>\n",
       "      <td>1</td>\n",
       "      <td>If that's true, then Freedom of Speech is doom...</td>\n",
       "    </tr>\n",
       "    <tr>\n",
       "      <th>1</th>\n",
       "      <td>notsarc</td>\n",
       "      <td>2</td>\n",
       "      <td>Neener neener - is it time to go in from the p...</td>\n",
       "    </tr>\n",
       "    <tr>\n",
       "      <th>2</th>\n",
       "      <td>notsarc</td>\n",
       "      <td>3</td>\n",
       "      <td>Just like the plastic gun fear, the armour pie...</td>\n",
       "    </tr>\n",
       "    <tr>\n",
       "      <th>3</th>\n",
       "      <td>notsarc</td>\n",
       "      <td>4</td>\n",
       "      <td>So geology is a religion because we weren't he...</td>\n",
       "    </tr>\n",
       "    <tr>\n",
       "      <th>4</th>\n",
       "      <td>notsarc</td>\n",
       "      <td>5</td>\n",
       "      <td>Well done Monty. Mark that up as your first ev...</td>\n",
       "    </tr>\n",
       "  </tbody>\n",
       "</table>\n",
       "</div>"
      ],
      "text/plain": [
       "     class  id                                               text\n",
       "0  notsarc   1  If that's true, then Freedom of Speech is doom...\n",
       "1  notsarc   2  Neener neener - is it time to go in from the p...\n",
       "2  notsarc   3  Just like the plastic gun fear, the armour pie...\n",
       "3  notsarc   4  So geology is a religion because we weren't he...\n",
       "4  notsarc   5  Well done Monty. Mark that up as your first ev..."
      ]
     },
     "execution_count": 9,
     "metadata": {},
     "output_type": "execute_result"
    }
   ],
   "source": [
    "sarcasm_corpus_v2_df = pd.concat(\n",
    "    [sarcasm_corpus_v2_gen_df, sarcasm_corpus_v2_hyp_df, sarcasm_corpus_v2_rq_df],\n",
    "    ignore_index=True,\n",
    ")\n",
    "sarcasm_corpus_v2_df.head()"
   ]
  },
  {
   "cell_type": "code",
   "execution_count": 10,
   "metadata": {},
   "outputs": [
    {
     "data": {
      "text/html": [
       "<div>\n",
       "<style scoped>\n",
       "    .dataframe tbody tr th:only-of-type {\n",
       "        vertical-align: middle;\n",
       "    }\n",
       "\n",
       "    .dataframe tbody tr th {\n",
       "        vertical-align: top;\n",
       "    }\n",
       "\n",
       "    .dataframe thead th {\n",
       "        text-align: right;\n",
       "    }\n",
       "</style>\n",
       "<table border=\"1\" class=\"dataframe\">\n",
       "  <thead>\n",
       "    <tr style=\"text-align: right;\">\n",
       "      <th></th>\n",
       "      <th>class</th>\n",
       "      <th>id</th>\n",
       "      <th>text</th>\n",
       "      <th>is_sarcastic</th>\n",
       "    </tr>\n",
       "  </thead>\n",
       "  <tbody>\n",
       "    <tr>\n",
       "      <th>0</th>\n",
       "      <td>notsarc</td>\n",
       "      <td>1</td>\n",
       "      <td>If that's true, then Freedom of Speech is doom...</td>\n",
       "      <td>0</td>\n",
       "    </tr>\n",
       "    <tr>\n",
       "      <th>1</th>\n",
       "      <td>notsarc</td>\n",
       "      <td>2</td>\n",
       "      <td>Neener neener - is it time to go in from the p...</td>\n",
       "      <td>0</td>\n",
       "    </tr>\n",
       "    <tr>\n",
       "      <th>2</th>\n",
       "      <td>notsarc</td>\n",
       "      <td>3</td>\n",
       "      <td>Just like the plastic gun fear, the armour pie...</td>\n",
       "      <td>0</td>\n",
       "    </tr>\n",
       "    <tr>\n",
       "      <th>3</th>\n",
       "      <td>notsarc</td>\n",
       "      <td>4</td>\n",
       "      <td>So geology is a religion because we weren't he...</td>\n",
       "      <td>0</td>\n",
       "    </tr>\n",
       "    <tr>\n",
       "      <th>4</th>\n",
       "      <td>notsarc</td>\n",
       "      <td>5</td>\n",
       "      <td>Well done Monty. Mark that up as your first ev...</td>\n",
       "      <td>0</td>\n",
       "    </tr>\n",
       "  </tbody>\n",
       "</table>\n",
       "</div>"
      ],
      "text/plain": [
       "     class  id                                               text  \\\n",
       "0  notsarc   1  If that's true, then Freedom of Speech is doom...   \n",
       "1  notsarc   2  Neener neener - is it time to go in from the p...   \n",
       "2  notsarc   3  Just like the plastic gun fear, the armour pie...   \n",
       "3  notsarc   4  So geology is a religion because we weren't he...   \n",
       "4  notsarc   5  Well done Monty. Mark that up as your first ev...   \n",
       "\n",
       "   is_sarcastic  \n",
       "0             0  \n",
       "1             0  \n",
       "2             0  \n",
       "3             0  \n",
       "4             0  "
      ]
     },
     "execution_count": 10,
     "metadata": {},
     "output_type": "execute_result"
    }
   ],
   "source": [
    "sarcasm_corpus_v2_df[\"is_sarcastic\"] = sarcasm_corpus_v2_df[\"class\"].apply(\n",
    "    lambda x: 0 if x == \"notsarc\" else 1\n",
    ")\n",
    "sarcasm_corpus_v2_df.head()"
   ]
  },
  {
   "cell_type": "code",
   "execution_count": 11,
   "metadata": {},
   "outputs": [
    {
     "data": {
      "text/html": [
       "<div>\n",
       "<style scoped>\n",
       "    .dataframe tbody tr th:only-of-type {\n",
       "        vertical-align: middle;\n",
       "    }\n",
       "\n",
       "    .dataframe tbody tr th {\n",
       "        vertical-align: top;\n",
       "    }\n",
       "\n",
       "    .dataframe thead th {\n",
       "        text-align: right;\n",
       "    }\n",
       "</style>\n",
       "<table border=\"1\" class=\"dataframe\">\n",
       "  <thead>\n",
       "    <tr style=\"text-align: right;\">\n",
       "      <th></th>\n",
       "      <th>sentence</th>\n",
       "      <th>is_sarcastic</th>\n",
       "    </tr>\n",
       "  </thead>\n",
       "  <tbody>\n",
       "    <tr>\n",
       "      <th>0</th>\n",
       "      <td>If that's true, then Freedom of Speech is doom...</td>\n",
       "      <td>0</td>\n",
       "    </tr>\n",
       "    <tr>\n",
       "      <th>1</th>\n",
       "      <td>Neener neener - is it time to go in from the p...</td>\n",
       "      <td>0</td>\n",
       "    </tr>\n",
       "    <tr>\n",
       "      <th>2</th>\n",
       "      <td>Just like the plastic gun fear, the armour pie...</td>\n",
       "      <td>0</td>\n",
       "    </tr>\n",
       "    <tr>\n",
       "      <th>3</th>\n",
       "      <td>So geology is a religion because we weren't he...</td>\n",
       "      <td>0</td>\n",
       "    </tr>\n",
       "    <tr>\n",
       "      <th>4</th>\n",
       "      <td>Well done Monty. Mark that up as your first ev...</td>\n",
       "      <td>0</td>\n",
       "    </tr>\n",
       "  </tbody>\n",
       "</table>\n",
       "</div>"
      ],
      "text/plain": [
       "                                            sentence  is_sarcastic\n",
       "0  If that's true, then Freedom of Speech is doom...             0\n",
       "1  Neener neener - is it time to go in from the p...             0\n",
       "2  Just like the plastic gun fear, the armour pie...             0\n",
       "3  So geology is a religion because we weren't he...             0\n",
       "4  Well done Monty. Mark that up as your first ev...             0"
      ]
     },
     "execution_count": 11,
     "metadata": {},
     "output_type": "execute_result"
    }
   ],
   "source": [
    "sarcasm_corpus_v2_df = sarcasm_corpus_v2_df[[\"text\", \"is_sarcastic\"]].rename(\n",
    "    columns={\"text\": \"sentence\"}\n",
    ")\n",
    "sarcasm_corpus_v2_df.head()"
   ]
  },
  {
   "cell_type": "code",
   "execution_count": 12,
   "metadata": {},
   "outputs": [
    {
     "name": "stdout",
     "output_type": "stream",
     "text": [
      "(39207, 3)\n"
     ]
    }
   ],
   "source": [
    "combined_df = pd.concat([combined_df, sarcasm_corpus_v2_df], ignore_index=True)\n",
    "print(combined_df.shape)"
   ]
  },
  {
   "cell_type": "markdown",
   "metadata": {},
   "source": [
    "## Save to Parquet\n"
   ]
  },
  {
   "cell_type": "code",
   "execution_count": 13,
   "metadata": {},
   "outputs": [],
   "source": [
    "combined_df.to_parquet(\"../datasets/combined.parquet\")"
   ]
  }
 ],
 "metadata": {
  "kernelspec": {
   "display_name": "Python 3",
   "language": "python",
   "name": "python3"
  },
  "language_info": {
   "codemirror_mode": {
    "name": "ipython",
    "version": 3
   },
   "file_extension": ".py",
   "mimetype": "text/x-python",
   "name": "python",
   "nbconvert_exporter": "python",
   "pygments_lexer": "ipython3",
   "version": "3.10.12"
  }
 },
 "nbformat": 4,
 "nbformat_minor": 2
}
